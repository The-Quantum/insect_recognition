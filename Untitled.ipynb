{
 "cells": [
  {
   "cell_type": "code",
   "execution_count": 11,
   "id": "f06d10cb",
   "metadata": {},
   "outputs": [],
   "source": [
    "import os\n",
    "import re\n",
    "import numpy as np\n",
    "import pandas as pd\n",
    "from PIL import Image\n",
    "from tqdm import tqdm\n",
    "from matplotlib import pyplot as plt "
   ]
  },
  {
   "cell_type": "code",
   "execution_count": 12,
   "id": "4d983254",
   "metadata": {},
   "outputs": [
    {
     "ename": "ImportError",
     "evalue": "lxml not found, please install or use the etree parser.",
     "output_type": "error",
     "traceback": [
      "\u001b[0;31m---------------------------------------------------------------------------\u001b[0m",
      "\u001b[0;31mImportError\u001b[0m                               Traceback (most recent call last)",
      "Cell \u001b[0;32mIn[12], line 1\u001b[0m\n\u001b[0;32m----> 1\u001b[0m df_xlm \u001b[38;5;241m=\u001b[39m \u001b[43mpd\u001b[49m\u001b[38;5;241;43m.\u001b[39;49m\u001b[43mread_xml\u001b[49m\u001b[43m(\u001b[49m\u001b[38;5;124;43m\"\u001b[39;49m\u001b[38;5;124;43mdatasets/Annotations/IP000000000.xml\u001b[39;49m\u001b[38;5;124;43m\"\u001b[39;49m\u001b[43m)\u001b[49m\n\u001b[1;32m      2\u001b[0m df_xlm\u001b[38;5;241m.\u001b[39mhead(\u001b[38;5;241m100\u001b[39m)\n",
      "File \u001b[0;32m~/Documents/project/github_project/insect_recognition/.venv/lib/python3.8/site-packages/pandas/util/_decorators.py:331\u001b[0m, in \u001b[0;36mdeprecate_nonkeyword_arguments.<locals>.decorate.<locals>.wrapper\u001b[0;34m(*args, **kwargs)\u001b[0m\n\u001b[1;32m    325\u001b[0m \u001b[38;5;28;01mif\u001b[39;00m \u001b[38;5;28mlen\u001b[39m(args) \u001b[38;5;241m>\u001b[39m num_allow_args:\n\u001b[1;32m    326\u001b[0m     warnings\u001b[38;5;241m.\u001b[39mwarn(\n\u001b[1;32m    327\u001b[0m         msg\u001b[38;5;241m.\u001b[39mformat(arguments\u001b[38;5;241m=\u001b[39m_format_argument_list(allow_args)),\n\u001b[1;32m    328\u001b[0m         \u001b[38;5;167;01mFutureWarning\u001b[39;00m,\n\u001b[1;32m    329\u001b[0m         stacklevel\u001b[38;5;241m=\u001b[39mfind_stack_level(),\n\u001b[1;32m    330\u001b[0m     )\n\u001b[0;32m--> 331\u001b[0m \u001b[38;5;28;01mreturn\u001b[39;00m \u001b[43mfunc\u001b[49m\u001b[43m(\u001b[49m\u001b[38;5;241;43m*\u001b[39;49m\u001b[43margs\u001b[49m\u001b[43m,\u001b[49m\u001b[43m \u001b[49m\u001b[38;5;241;43m*\u001b[39;49m\u001b[38;5;241;43m*\u001b[39;49m\u001b[43mkwargs\u001b[49m\u001b[43m)\u001b[49m\n",
      "File \u001b[0;32m~/Documents/project/github_project/insect_recognition/.venv/lib/python3.8/site-packages/pandas/io/xml.py:1088\u001b[0m, in \u001b[0;36mread_xml\u001b[0;34m(path_or_buffer, xpath, namespaces, elems_only, attrs_only, names, dtype, converters, parse_dates, encoding, parser, stylesheet, iterparse, compression, storage_options)\u001b[0m\n\u001b[1;32m    838\u001b[0m \u001b[38;5;129m@deprecate_nonkeyword_arguments\u001b[39m(version\u001b[38;5;241m=\u001b[39m\u001b[38;5;28;01mNone\u001b[39;00m, allowed_args\u001b[38;5;241m=\u001b[39m[\u001b[38;5;124m\"\u001b[39m\u001b[38;5;124mpath_or_buffer\u001b[39m\u001b[38;5;124m\"\u001b[39m])\n\u001b[1;32m    839\u001b[0m \u001b[38;5;129m@doc\u001b[39m(\n\u001b[1;32m    840\u001b[0m     storage_options\u001b[38;5;241m=\u001b[39m_shared_docs[\u001b[38;5;124m\"\u001b[39m\u001b[38;5;124mstorage_options\u001b[39m\u001b[38;5;124m\"\u001b[39m],\n\u001b[0;32m   (...)\u001b[0m\n\u001b[1;32m    859\u001b[0m     storage_options: StorageOptions \u001b[38;5;241m=\u001b[39m \u001b[38;5;28;01mNone\u001b[39;00m,\n\u001b[1;32m    860\u001b[0m ) \u001b[38;5;241m-\u001b[39m\u001b[38;5;241m>\u001b[39m DataFrame:\n\u001b[1;32m    861\u001b[0m \u001b[38;5;250m    \u001b[39m\u001b[38;5;124mr\u001b[39m\u001b[38;5;124;03m\"\"\"\u001b[39;00m\n\u001b[1;32m    862\u001b[0m \u001b[38;5;124;03m    Read XML document into a ``DataFrame`` object.\u001b[39;00m\n\u001b[1;32m    863\u001b[0m \n\u001b[0;32m   (...)\u001b[0m\n\u001b[1;32m   1085\u001b[0m \u001b[38;5;124;03m    2  triangle      180    3.0\u001b[39;00m\n\u001b[1;32m   1086\u001b[0m \u001b[38;5;124;03m    \"\"\"\u001b[39;00m\n\u001b[0;32m-> 1088\u001b[0m     \u001b[38;5;28;01mreturn\u001b[39;00m \u001b[43m_parse\u001b[49m\u001b[43m(\u001b[49m\n\u001b[1;32m   1089\u001b[0m \u001b[43m        \u001b[49m\u001b[43mpath_or_buffer\u001b[49m\u001b[38;5;241;43m=\u001b[39;49m\u001b[43mpath_or_buffer\u001b[49m\u001b[43m,\u001b[49m\n\u001b[1;32m   1090\u001b[0m \u001b[43m        \u001b[49m\u001b[43mxpath\u001b[49m\u001b[38;5;241;43m=\u001b[39;49m\u001b[43mxpath\u001b[49m\u001b[43m,\u001b[49m\n\u001b[1;32m   1091\u001b[0m \u001b[43m        \u001b[49m\u001b[43mnamespaces\u001b[49m\u001b[38;5;241;43m=\u001b[39;49m\u001b[43mnamespaces\u001b[49m\u001b[43m,\u001b[49m\n\u001b[1;32m   1092\u001b[0m \u001b[43m        \u001b[49m\u001b[43melems_only\u001b[49m\u001b[38;5;241;43m=\u001b[39;49m\u001b[43melems_only\u001b[49m\u001b[43m,\u001b[49m\n\u001b[1;32m   1093\u001b[0m \u001b[43m        \u001b[49m\u001b[43mattrs_only\u001b[49m\u001b[38;5;241;43m=\u001b[39;49m\u001b[43mattrs_only\u001b[49m\u001b[43m,\u001b[49m\n\u001b[1;32m   1094\u001b[0m \u001b[43m        \u001b[49m\u001b[43mnames\u001b[49m\u001b[38;5;241;43m=\u001b[39;49m\u001b[43mnames\u001b[49m\u001b[43m,\u001b[49m\n\u001b[1;32m   1095\u001b[0m \u001b[43m        \u001b[49m\u001b[43mdtype\u001b[49m\u001b[38;5;241;43m=\u001b[39;49m\u001b[43mdtype\u001b[49m\u001b[43m,\u001b[49m\n\u001b[1;32m   1096\u001b[0m \u001b[43m        \u001b[49m\u001b[43mconverters\u001b[49m\u001b[38;5;241;43m=\u001b[39;49m\u001b[43mconverters\u001b[49m\u001b[43m,\u001b[49m\n\u001b[1;32m   1097\u001b[0m \u001b[43m        \u001b[49m\u001b[43mparse_dates\u001b[49m\u001b[38;5;241;43m=\u001b[39;49m\u001b[43mparse_dates\u001b[49m\u001b[43m,\u001b[49m\n\u001b[1;32m   1098\u001b[0m \u001b[43m        \u001b[49m\u001b[43mencoding\u001b[49m\u001b[38;5;241;43m=\u001b[39;49m\u001b[43mencoding\u001b[49m\u001b[43m,\u001b[49m\n\u001b[1;32m   1099\u001b[0m \u001b[43m        \u001b[49m\u001b[43mparser\u001b[49m\u001b[38;5;241;43m=\u001b[39;49m\u001b[43mparser\u001b[49m\u001b[43m,\u001b[49m\n\u001b[1;32m   1100\u001b[0m \u001b[43m        \u001b[49m\u001b[43mstylesheet\u001b[49m\u001b[38;5;241;43m=\u001b[39;49m\u001b[43mstylesheet\u001b[49m\u001b[43m,\u001b[49m\n\u001b[1;32m   1101\u001b[0m \u001b[43m        \u001b[49m\u001b[43miterparse\u001b[49m\u001b[38;5;241;43m=\u001b[39;49m\u001b[43miterparse\u001b[49m\u001b[43m,\u001b[49m\n\u001b[1;32m   1102\u001b[0m \u001b[43m        \u001b[49m\u001b[43mcompression\u001b[49m\u001b[38;5;241;43m=\u001b[39;49m\u001b[43mcompression\u001b[49m\u001b[43m,\u001b[49m\n\u001b[1;32m   1103\u001b[0m \u001b[43m        \u001b[49m\u001b[43mstorage_options\u001b[49m\u001b[38;5;241;43m=\u001b[39;49m\u001b[43mstorage_options\u001b[49m\u001b[43m,\u001b[49m\n\u001b[1;32m   1104\u001b[0m \u001b[43m    \u001b[49m\u001b[43m)\u001b[49m\n",
      "File \u001b[0;32m~/Documents/project/github_project/insect_recognition/.venv/lib/python3.8/site-packages/pandas/io/xml.py:805\u001b[0m, in \u001b[0;36m_parse\u001b[0;34m(path_or_buffer, xpath, namespaces, elems_only, attrs_only, names, dtype, converters, parse_dates, encoding, parser, stylesheet, iterparse, compression, storage_options, **kwargs)\u001b[0m\n\u001b[1;32m    788\u001b[0m         p \u001b[38;5;241m=\u001b[39m _LxmlFrameParser(\n\u001b[1;32m    789\u001b[0m             path_or_buffer,\n\u001b[1;32m    790\u001b[0m             xpath,\n\u001b[0;32m   (...)\u001b[0m\n\u001b[1;32m    802\u001b[0m             storage_options,\n\u001b[1;32m    803\u001b[0m         )\n\u001b[1;32m    804\u001b[0m     \u001b[38;5;28;01melse\u001b[39;00m:\n\u001b[0;32m--> 805\u001b[0m         \u001b[38;5;28;01mraise\u001b[39;00m \u001b[38;5;167;01mImportError\u001b[39;00m(\u001b[38;5;124m\"\u001b[39m\u001b[38;5;124mlxml not found, please install or use the etree parser.\u001b[39m\u001b[38;5;124m\"\u001b[39m)\n\u001b[1;32m    807\u001b[0m \u001b[38;5;28;01melif\u001b[39;00m parser \u001b[38;5;241m==\u001b[39m \u001b[38;5;124m\"\u001b[39m\u001b[38;5;124metree\u001b[39m\u001b[38;5;124m\"\u001b[39m:\n\u001b[1;32m    808\u001b[0m     p \u001b[38;5;241m=\u001b[39m _EtreeFrameParser(\n\u001b[1;32m    809\u001b[0m         path_or_buffer,\n\u001b[1;32m    810\u001b[0m         xpath,\n\u001b[0;32m   (...)\u001b[0m\n\u001b[1;32m    822\u001b[0m         storage_options,\n\u001b[1;32m    823\u001b[0m     )\n",
      "\u001b[0;31mImportError\u001b[0m: lxml not found, please install or use the etree parser."
     ]
    }
   ],
   "source": [
    "df_xlm = pd.read_xml(\"datasets/Annotations/IP000000000.xml\")\n",
    "df_xlm.head(100)"
   ]
  },
  {
   "cell_type": "code",
   "execution_count": 6,
   "id": "71991acd",
   "metadata": {},
   "outputs": [
    {
     "name": "stdout",
     "output_type": "stream",
     "text": [
      " Annotation   \n",
      "     Folder  IP103_final_new1 \n",
      "     Filename  IP000000107.jpg \n",
      "     Path  /home/ubuntu2/Desktop/IP103_final_new1/IP000000107.jpg \n",
      "     Source   \n",
      "         Database  Unknown \n",
      "     Size   \n",
      "         Width  690 \n",
      "         Height  517 \n",
      "         Depth  3 \n",
      "     Segmented  0 \n",
      "     Object   \n",
      "         Name  0 \n",
      "         Pose  Unspecified \n",
      "         Truncated  1 \n",
      "         Difficult  0 \n",
      "         Bndbox   \n",
      "             Xmin  1 \n",
      "             Ymin  44 \n",
      "             Xmax  582 \n",
      "             Ymax  217 \n",
      "     Object   \n",
      "         Name  0 \n",
      "         Pose  Unspecified \n",
      "         Truncated  0 \n",
      "         Difficult  0 \n",
      "         Bndbox   \n",
      "             Xmin  32 \n",
      "             Ymin  292 \n",
      "             Xmax  620 \n",
      "             Ymax  381 \n"
     ]
    }
   ],
   "source": [
    "from xml.etree import ElementTree\n",
    "\n",
    "xml_tree = ElementTree.parse(\"datasets/Annotations/IP000000107.xml\")\n",
    "\n",
    "root = xml_tree.getroot()\n",
    "\n",
    "\n",
    "def recursive_print(element, indent):\n",
    "\n",
    "    element_tag = element.tag\n",
    "\n",
    "    element_attributes = element.attrib if len(element.attrib) else \"\"\n",
    "\n",
    "    element_text = element.text if element.text is not None and len(element.text.strip()) > 0 else \"\"\n",
    "\n",
    "    element_tail = element.tail.strip() if element.tail is not None and len(element.tail.strip()) > 0 else \"\"\n",
    "\n",
    "\n",
    "    print(\" \"*indent, element_tag.title(), element_attributes, element_text, element_tail)\n",
    "\n",
    "    element_children = list(element)\n",
    "\n",
    "    for child in element_children:\n",
    "\n",
    "        recursive_print(child, indent + 4)\n",
    "\n",
    "recursive_print(root, 0)"
   ]
  },
  {
   "cell_type": "code",
   "execution_count": 3,
   "id": "3e0bedfa",
   "metadata": {},
   "outputs": [
    {
     "name": "stdout",
     "output_type": "stream",
     "text": [
      "object\n",
      "object_1\n"
     ]
    },
    {
     "data": {
      "text/plain": [
       "['0 0.4217391304347826 0.2514506769825919 0.8420289855072464 0.3346228239845261',\n",
       " '0 0.47246376811594204 0.6499032882011605 0.8521739130434782 0.172147001934236']"
      ]
     },
     "execution_count": 3,
     "metadata": {},
     "output_type": "execute_result"
    }
   ],
   "source": [
    "annotations = {'filename': 'IP000000107.jpg', \n",
    "               'size': {'width': '690', 'height': '517', 'depth': '3'}, \n",
    "               'object': {'name': '0', 'bndbox': {'xmin': '1', 'ymin': '44', 'xmax': '582', 'ymax': '217'}},\n",
    "               'object_1': {'name': '0', 'bndbox': {'xmin': '32', 'ymin': '292', 'xmax': '620', 'ymax': '381'}}\n",
    "              }\n",
    "\n",
    "def format_annotation(annotations):\n",
    "    bbox_key = []\n",
    "    annotations_list = []\n",
    "    for key in annotations.keys():\n",
    "        if 'object' in key :\n",
    "            print(key)\n",
    "            bbox_key.append(key)\n",
    "    \n",
    "            bbox = annotations[key][\"bndbox\"]\n",
    "            coords = np.asarray(\n",
    "                     [float(bbox[\"xmin\"]), float(bbox[\"ymin\"]), \n",
    "                      float(bbox[\"xmax\"]), float(bbox[\"ymax\"])])\n",
    "\n",
    "            coords = convert(annotations, coords)\n",
    "\n",
    "            newline = annotations[key][\"name\"] + \" \" \\\n",
    "                      + str(coords[0]) + \" \" \\\n",
    "                      + str(coords[1]) + \" \" \\\n",
    "                      + str(coords[2]) + \" \" \\\n",
    "                      + str(coords[3])\n",
    "            \n",
    "            annotations_list.append(newline)\n",
    "            \n",
    "    return annotations_list\n",
    "\n",
    "def convert(annotations, coords):\n",
    "    \"\"\" Transform Open Images Dataset bounding boxes\n",
    "        XMin, YMin, XMax, YMax annotaton format into\n",
    "        the normalized yolo format.\n",
    "\n",
    "    input :\n",
    "    -----\n",
    "    filename_wihtout_extension : str()\n",
    "        Image file path without .jpg extension. File by default available in Label/ subdir\n",
    "    coords : np.array()\n",
    "        OID coordinate of bounding boxes. \n",
    "\n",
    "    return :\n",
    "    ------\n",
    "    coords : np.array()\n",
    "        New bounding boxes coordinate in YOLO formats.    \n",
    "    \"\"\"\n",
    "    #print(coords)\n",
    "    coords[2] -= coords[0]\n",
    "    coords[3] -= coords[1]   \n",
    "\n",
    "    x_diff = int(coords[2]/2)\n",
    "    y_diff = int(coords[3]/2)\n",
    "\n",
    "    coords[0] = coords[0]+x_diff\n",
    "    coords[1] = coords[1]+y_diff\n",
    "    \n",
    "    image_dim = annotations[\"size\"]\n",
    "    \n",
    "    coords[0] /= float(image_dim[\"width\"])\n",
    "    coords[1] /= float(image_dim[\"height\"])\n",
    "    coords[2] /= float(image_dim[\"width\"])\n",
    "    coords[3] /= float(image_dim[\"height\"])\n",
    "\n",
    "    return coords\n",
    "\n",
    "annotations_list = format_annotation(annotations)\n",
    "annotations_list"
   ]
  },
  {
   "cell_type": "code",
   "execution_count": 4,
   "id": "2fd21f38",
   "metadata": {},
   "outputs": [
    {
     "name": "stdout",
     "output_type": "stream",
     "text": [
      "0 0.4217391304347826 0.2514506769825919 0.8420289855072464 0.3346228239845261\n",
      "0 0.47246376811594204 0.6499032882011605 0.8521739130434782 0.172147001934236\n"
     ]
    }
   ],
   "source": [
    "with open(\"annotations_test.txt\", \"w\") as outfile:\n",
    "    for line in annotations_list:\n",
    "        print(line)\n",
    "        outfile.write(line)\n",
    "        outfile.write(\"\\n\")"
   ]
  },
  {
   "cell_type": "code",
   "execution_count": 7,
   "id": "15974817",
   "metadata": {},
   "outputs": [
    {
     "name": "stderr",
     "output_type": "stream",
     "text": [
      "  0%|                                                                                                                                                                            | 0/18981 [00:00<?, ?it/s]"
     ]
    },
    {
     "name": "stdout",
     "output_type": "stream",
     "text": [
      "IP014000339.jpg IP000000107.jpg\n"
     ]
    },
    {
     "name": "stderr",
     "output_type": "stream",
     "text": [
      "\n"
     ]
    }
   ],
   "source": [
    "# Map each class name to a number for yolo compatibility\n",
    "def remove_first_end_spaces(string):\n",
    "    return \"\".join(string.rstrip().lstrip())\n",
    "\n",
    "classes = {}\n",
    "with open(\"data/classes.txt\", \"r\") as myFile:\n",
    "    for num, line in enumerate(myFile, 0):\n",
    "        line = line.rstrip(\"\\n\")\n",
    "        line = re.sub(r'[0-9]+', '', line)\n",
    "        line = remove_first_end_spaces(line)\n",
    "        classes[line] = num\n",
    "        \n",
    "# step into dataset directory\n",
    "DATA_DIR = \"data/JPEGImages/\"\n",
    "\n",
    "for filename in tqdm(os.listdir(DATA_DIR)):\n",
    "    file_path = os.path.join(DATA_DIR, filename)\n",
    "    \n",
    "    if filename != annotations[\"filename\"]:\n",
    "        print(filename, annotations[\"filename\"])\n",
    "        break\n",
    "       \n",
    "    annotations = format_annotation(annotations)\n",
    "    \n",
    "    filename_txt  = filename.plit(\".\")[0] + \".txt\"\n",
    "    new_file_path = os.path.join(\"Label/\", filename_txt)\n",
    "\n",
    "    with open(new_file_path, \"w\") as outfile:\n",
    "        for line in annotations:\n",
    "            print(line)\n",
    "            outfile.write(line)\n",
    "            outfile.write(\"\\n\")"
   ]
  },
  {
   "cell_type": "code",
   "execution_count": 9,
   "id": "d3c7e84e",
   "metadata": {},
   "outputs": [
    {
     "ename": "NameError",
     "evalue": "name 'plt' is not defined",
     "output_type": "error",
     "traceback": [
      "\u001b[0;31m---------------------------------------------------------------------------\u001b[0m",
      "\u001b[0;31mNameError\u001b[0m                                 Traceback (most recent call last)",
      "\u001b[0;32m/tmp/ipykernel_134446/2443381898.py\u001b[0m in \u001b[0;36m<module>\u001b[0;34m\u001b[0m\n\u001b[1;32m      2\u001b[0m \u001b[0mimage\u001b[0m \u001b[0;34m=\u001b[0m \u001b[0mImage\u001b[0m\u001b[0;34m.\u001b[0m\u001b[0mopen\u001b[0m\u001b[0;34m(\u001b[0m\u001b[0mimge_path\u001b[0m\u001b[0;34m)\u001b[0m\u001b[0;34m\u001b[0m\u001b[0;34m\u001b[0m\u001b[0m\n\u001b[1;32m      3\u001b[0m \u001b[0mimage\u001b[0m \u001b[0;34m=\u001b[0m \u001b[0mnp\u001b[0m\u001b[0;34m.\u001b[0m\u001b[0marray\u001b[0m\u001b[0;34m(\u001b[0m\u001b[0mimage\u001b[0m\u001b[0;34m)\u001b[0m\u001b[0;34m\u001b[0m\u001b[0;34m\u001b[0m\u001b[0m\n\u001b[0;32m----> 4\u001b[0;31m \u001b[0mplt\u001b[0m\u001b[0;34m.\u001b[0m\u001b[0mimshow\u001b[0m\u001b[0;34m(\u001b[0m\u001b[0mimage\u001b[0m\u001b[0;34m)\u001b[0m\u001b[0;34m\u001b[0m\u001b[0;34m\u001b[0m\u001b[0m\n\u001b[0m\u001b[1;32m      5\u001b[0m \u001b[0mplt\u001b[0m\u001b[0;34m.\u001b[0m\u001b[0mhow\u001b[0m\u001b[0;34m(\u001b[0m\u001b[0;34m)\u001b[0m\u001b[0;34m\u001b[0m\u001b[0;34m\u001b[0m\u001b[0m\n",
      "\u001b[0;31mNameError\u001b[0m: name 'plt' is not defined"
     ]
    }
   ],
   "source": [
    "imge_path = \"data/JPEGImages/\"+annotations[\"filename\"]\n",
    "image = Image.open(imge_path)\n",
    "image = np.array(image)\n",
    "plt.imshow(image)\n",
    "plt.how()"
   ]
  },
  {
   "cell_type": "code",
   "execution_count": 11,
   "id": "4f89c6a5",
   "metadata": {},
   "outputs": [
    {
     "data": {
      "text/plain": [
       "['0 0.6305609284332688 0.48695652173913045 1.137330754352031 0.1289855072463768']"
      ]
     },
     "execution_count": 11,
     "metadata": {},
     "output_type": "execute_result"
    }
   ],
   "source": [
    "def parseXmlToJson(xml):\n",
    "    response = {}\n",
    "\n",
    "    for child in list(xml):\n",
    "        if len(list(child)) > 0:\n",
    "            response[child.tag] = parseXmlToJson(child)\n",
    "        else:\n",
    "            response[child.tag] = child.text or ''\n",
    "\n",
    "    # one-liner equivalent\n",
    "    # response[child.tag] = parseXmlToJson(child) if len(list(child)) > 0 else child.text or ''\n",
    "    \n",
    "    return response\n",
    "\n",
    "def extract_data(file_path):\n",
    "    \n",
    "    xml_tree = ElementTree.parse(file_path)\n",
    "    xml_tree = xml_tree.getroot()\n",
    "    \n",
    "    response = parseXmlToJson(xml_tree)\n",
    "    \n",
    "    file_content = {\"file\" : response[\"path\"].split(\"/\")[-1],\n",
    "                    \"image_dim\": response[\"size\"],\n",
    "                    \"class_name\" :response[\"object\"][\"name\"],\n",
    "                    \"bndbox\": response[\"object\"][\"bndbox\"]}\n",
    "    return file_content\n",
    "\n",
    "def convert(file_content, coords):\n",
    "    \"\"\" Transform Open Images Dataset bounding boxes\n",
    "        XMin, YMin, XMax, YMax annotaton format into\n",
    "        the normalized yolo format.\n",
    "\n",
    "    input :\n",
    "    -----\n",
    "    filename_wihtout_extension : str()\n",
    "        Image file path without .jpg extension. File by default available in Label/ subdir\n",
    "    coords : np.array()\n",
    "        OID coordinate of bounding boxes. \n",
    "\n",
    "    return :\n",
    "    ------\n",
    "    coords : np.array()\n",
    "        New bounding boxes coordinate in YOLO formats.    \n",
    "    \"\"\"\n",
    "    #print(coords)\n",
    "    coords[2] -= coords[0]\n",
    "    coords[3] -= coords[1]   \n",
    "\n",
    "    x_diff = int(coords[2]/2)\n",
    "    y_diff = int(coords[3]/2)\n",
    "\n",
    "    coords[0] = coords[0]+x_diff\n",
    "    coords[1] = coords[1]+y_diff\n",
    "    \n",
    "    image_dim = file_content[\"image_dim\"]\n",
    "    \n",
    "    coords[0] /= float(image_dim[\"height\"])\n",
    "    coords[1] /= float(image_dim[\"width\"])\n",
    "    coords[2] /= float(image_dim[\"height\"])\n",
    "    coords[3] /= float(image_dim[\"width\"])\n",
    "\n",
    "    return coords\n",
    "\n",
    "def format_annotation(file_path):\n",
    "    \n",
    "    file_content = extract_data(file_path)\n",
    "    \n",
    "    annotations = []\n",
    "    bbox = file_content['bndbox']\n",
    "    coords = np.asarray(\n",
    "        [float(bbox[\"xmin\"]), float(bbox[\"ymin\"]), \n",
    "         float(bbox[\"xmax\"]), float(bbox[\"ymax\"])])\n",
    "\n",
    "    coords = convert(file_content, coords)\n",
    "\n",
    "    newline = file_content[\"class_name\"] + \" \" \\\n",
    "              + str(coords[0]) + \" \" \\\n",
    "              + str(coords[1]) + \" \" \\\n",
    "              + str(coords[2]) + \" \" \\\n",
    "              + str(coords[3])\n",
    "\n",
    "    annotations.append(newline)\n",
    "    \n",
    "    return annotations\n",
    "\n",
    "file_path = \"data/Annotations/IP000000107.xml\"\n",
    "annotations = format_annotation(file_path)\n",
    "annotations"
   ]
  },
  {
   "cell_type": "code",
   "execution_count": 13,
   "id": "4b90b87f",
   "metadata": {},
   "outputs": [
    {
     "name": "stdout",
     "output_type": "stream",
     "text": [
      "{'file': 'IP000000107.jpg', 'image_dim': {'width': '690', 'height': '517', 'depth': '3'}, 'class_name': '0', 'bndbox': {'xmin': '32', 'ymin': '292', 'xmax': '620', 'ymax': '381'}}\n"
     ]
    }
   ],
   "source": [
    "xml_tree = ElementTree.parse(\"data/Annotations/IP000000107.xml\")\n",
    "#xml_tree = ElementTree.parse(\"Annotations/IP102001902.xml\")\n",
    "xml_tree = xml_tree.getroot()\n",
    "\n",
    "def parseXmlToJson(xml):\n",
    "    response = {}\n",
    "\n",
    "    for child in list(xml):\n",
    "        if len(list(child)) > 0:\n",
    "            response[child.tag] = parseXmlToJson(child)\n",
    "        else:\n",
    "            response[child.tag] = child.text or ''\n",
    "\n",
    "    # one-liner equivalent\n",
    "    # response[child.tag] = parseXmlToJson(child) if len(list(child)) > 0 else child.text or ''\n",
    "    \n",
    "    return response\n",
    "\n",
    "def extract_data(xml_tree):\n",
    "    \n",
    "    response = parseXmlToJson(xml_tree)\n",
    "    \n",
    "    file_content = {\"file\" : response[\"path\"].split(\"/\")[-1],\n",
    "                    \"image_dim\": response[\"size\"],\n",
    "                    \"class_name\" :response[\"object\"][\"name\"],\n",
    "                    \"bndbox\": response[\"object\"][\"bndbox\"]}\n",
    "    return file_content\n",
    "\n",
    "file_content = extract_data(xml_tree)\n",
    "print(file_content)"
   ]
  },
  {
   "cell_type": "code",
   "execution_count": 14,
   "id": "44f9d323",
   "metadata": {},
   "outputs": [
    {
     "name": "stdout",
     "output_type": "stream",
     "text": [
      "abcdefg\n"
     ]
    }
   ],
   "source": [
    "import re\n",
    "string = 'abcd1234efg567'\n",
    "newstring = re.sub(r'[0-9]+', '', string)\n",
    "print(newstring)"
   ]
  },
  {
   "cell_type": "code",
   "execution_count": 15,
   "id": "b37c537a",
   "metadata": {},
   "outputs": [
    {
     "name": "stdout",
     "output_type": "stream",
     "text": [
      "annotation\n",
      "element_attributes : \n",
      "element_text : \n",
      "element_tail : \n",
      "{} {}\n",
      "folder\n",
      "element_attributes : \n",
      "element_text : IP103_final_new1\n",
      "element_tail : \n",
      "{} {}\n",
      "filename\n",
      "element_attributes : \n",
      "element_text : IP000000000.jpg\n",
      "element_tail : \n",
      "filename IP000000000.jpg\n",
      "{} {}\n",
      "path\n",
      "element_attributes : \n",
      "element_text : /home/ubuntu2/Desktop/IP103_final_new1/IP000000000.jpg\n",
      "element_tail : \n",
      "{} {}\n",
      "source\n",
      "element_attributes : \n",
      "element_text : \n",
      "element_tail : \n",
      "{} {}\n",
      "database\n",
      "element_attributes : \n",
      "element_text : Unknown\n",
      "element_tail : \n",
      "{} {}\n",
      "size\n",
      "element_attributes : \n",
      "element_text : \n",
      "element_tail : \n",
      "{} {}\n",
      "width\n",
      "element_attributes : \n",
      "element_text : 650\n",
      "element_tail : \n",
      "{} {}\n",
      "height\n",
      "element_attributes : \n",
      "element_text : 420\n",
      "element_tail : \n",
      "{} {}\n",
      "depth\n",
      "element_attributes : \n",
      "element_text : 3\n",
      "element_tail : \n",
      "{} {}\n",
      "segmented\n",
      "element_attributes : \n",
      "element_text : 0\n",
      "element_tail : \n",
      "{} {}\n",
      "object\n",
      "element_attributes : \n",
      "element_text : \n",
      "element_tail : \n",
      "{} {}\n",
      "name\n",
      "element_attributes : \n",
      "element_text : 0\n",
      "element_tail : \n",
      "{} {}\n",
      "pose\n",
      "element_attributes : \n",
      "element_text : Unspecified\n",
      "element_tail : \n",
      "{} {}\n",
      "truncated\n",
      "element_attributes : \n",
      "element_text : 0\n",
      "element_tail : \n",
      "{} {}\n",
      "difficult\n",
      "element_attributes : \n",
      "element_text : 0\n",
      "element_tail : \n",
      "{} {}\n",
      "bndbox\n",
      "element_attributes : \n",
      "element_text : \n",
      "element_tail : \n",
      "{} {}\n",
      "xmin\n",
      "element_attributes : \n",
      "element_text : 99\n",
      "element_tail : \n",
      "{} {}\n",
      "ymin\n",
      "element_attributes : \n",
      "element_text : 231\n",
      "element_tail : \n",
      "{} {}\n",
      "xmax\n",
      "element_attributes : \n",
      "element_text : 524\n",
      "element_tail : \n",
      "{} {}\n",
      "ymax\n",
      "element_attributes : \n",
      "element_text : 334\n",
      "element_tail : \n",
      "{} {}\n"
     ]
    }
   ],
   "source": [
    "xml_tree = ElementTree.parse(\"data/Annotations/IP000000000.xml\")\n",
    "root = xml_tree.getroot()\n",
    "\n",
    "def recursive_print(element, indent):\n",
    "    size, bndbox = {}, {}\n",
    "    element_tag = element.tag\n",
    "    print(element_tag)\n",
    "    \n",
    "    element_attributes = element.attrib if len(element.attrib) else \"\"\n",
    "    print(\"element_attributes :\", element_attributes)\n",
    "    \n",
    "    element_text = element.text if element.text is not None and len(element.text.strip()) > 0 else \"\"\n",
    "    print(\"element_text :\", element_text)\n",
    "    \n",
    "    element_tail = element.tail.strip() if element.tail is not None and len(element.tail.strip()) > 0 else \"\"\n",
    "    print(\"element_tail :\", element_tail)\n",
    "    \n",
    "    #print(\" \"*indent, element_tag.title(), element_attributes, element_text, element_tail)\n",
    "    size, bndbox = check_value(element_tag, element_text, size, bndbox)\n",
    "    print(size, bndbox)\n",
    "\n",
    "    element_children = list(element)\n",
    "    for child in element_children:\n",
    "        recursive_print(child, indent + 4)\n",
    "    \n",
    "def check_value(element_tag, element_text, size, bndbox):\n",
    "    if element_tag == \"filename\": \n",
    "        print(element_tag, element_text)\n",
    "    elif element_tag == \"size\" :\n",
    "        if element_tag == \"width\":\n",
    "            size[\"width\"] == element_text\n",
    "        elif element_tag == \"hight\":\n",
    "            size[\"hight\"] == element_text\n",
    "        elif element_tag == \"depth\":\n",
    "            size[\"depth\"] == element_text\n",
    "    elif element_tag == \"bndbox\" :\n",
    "        bndbox = {}\n",
    "        if element_tag == \"xmin\":\n",
    "            bndbox[\"xmin\"] == element_text\n",
    "        elif element_tag == \"ymin\":\n",
    "            bndbox[\"ymin\"] == element_text\n",
    "        elif element_tag == \"xmax\":\n",
    "            bndbox[\"xmax\"] == element_text\n",
    "        elif element_tag == \"ymax\":\n",
    "            bndbox[\"ymax\"] == element_text\n",
    "    return size, bndbox\n",
    "\n",
    "recursive_print(root, 0)"
   ]
  },
  {
   "cell_type": "code",
   "execution_count": 10,
   "id": "c4625f14",
   "metadata": {},
   "outputs": [
    {
     "name": "stdout",
     "output_type": "stream",
     "text": [
      "{'filename': 'IP000000107.jpg', 'size': {'width': '690', 'height': '517', 'depth': '3'}, 'object': {'name': '0', 'bndbox': {'xmin': '1', 'ymin': '44', 'xmax': '582', 'ymax': '217'}}, 'object_1': {'name': '0', 'bndbox': {'xmin': '32', 'ymin': '292', 'xmax': '620', 'ymax': '381'}}}\n"
     ]
    }
   ],
   "source": [
    "import xml.sax\n",
    "from prepare_annotation import XMLHandler\n",
    "\n",
    "parser = xml.sax.make_parser()\n",
    "parser.setFeature(xml.sax.handler.feature_namespaces, 0)\n",
    "\n",
    "\n",
    "handler = XMLHandler()\n",
    "parser.setContentHandler( handler )\n",
    "parser.parse(\"datasets/Annotations/IP000000107.xml\")\n",
    "      \n",
    "annotations = handler.endDocument()\n",
    "print(annotations)"
   ]
  },
  {
   "cell_type": "code",
   "execution_count": 52,
   "id": "adc8a557",
   "metadata": {},
   "outputs": [],
   "source": [
    "import xml.etree.ElementTree as ET\n",
    "path = \"/home/donald/Documents/project/github_project/rddc2020/yolov5/datasets/road2020/train/Czech/annotations/xmls/Czech_000000.xml\"\n",
    "tree = ET.parse(path)"
   ]
  },
  {
   "cell_type": "code",
   "execution_count": 55,
   "id": "b1a3dccc",
   "metadata": {},
   "outputs": [
    {
     "name": "stdout",
     "output_type": "stream",
     "text": [
      "{'filename': 'Czech_000000.jpg', 'size': {'depth': '3', 'height': '600', 'width': '600'}}\n"
     ]
    }
   ],
   "source": [
    "annotation_yolo = {\"filename\":tree.findtext(\"filename\"), \n",
    "                   \"size\":{\"depth\":tree.findtext(\"./size/depth\"),\n",
    "                           \"height\":tree.findtext(\"./size/height\"),\n",
    "                           \"width\":tree.findtext(\"./size/width\")}\n",
    "                  }\n",
    "for index, obj in enumerate(tree.findall(\"object\")):\n",
    "    print(obj)\n",
    "    object_tag = \"object\" if index < 1 else \"object_{}\".format(index)\n",
    "    annotation_yolo[object_tag] = {\n",
    "        \"name\"  : obj.findtext(\"name\"), \"bndbox\": {\"xmin\": obj.findtext(\"bndbox/xmin\"), \"ymin\": obj.findtext(\"bndbox/ymin\"),\n",
    "                                                    \"xmax\": obj.findtext(\"bndbox/xmax\"),\n",
    "                                                    \"ymax\": obj.findtext(\"bndbox/ymax\")}}\n",
    "        \n",
    "print(annotation_yolo)"
   ]
  },
  {
   "cell_type": "code",
   "execution_count": 64,
   "id": "828d45d4",
   "metadata": {},
   "outputs": [
    {
     "data": {
      "text/plain": [
       "[]"
      ]
     },
     "execution_count": 64,
     "metadata": {},
     "output_type": "execute_result"
    }
   ],
   "source": [
    "test = [el for el in enumerate([])]\n",
    "test"
   ]
  },
  {
   "cell_type": "code",
   "execution_count": 124,
   "id": "77e3298e",
   "metadata": {},
   "outputs": [
    {
     "data": {
      "text/plain": [
       "{'filename': 'IP000000107.jpg',\n",
       " 'size': {'depth': '3', 'height': '517', 'width': '690'},\n",
       " 'object': {'name': '0',\n",
       "  'bndbox': {'xmin': '1', 'ymin': '44', 'xmax': '582', 'ymax': '217'}},\n",
       " 'object_1': {'name': '0',\n",
       "  'bndbox': {'xmin': '32', 'ymin': '292', 'xmax': '620', 'ymax': '381'}}}"
      ]
     },
     "execution_count": 124,
     "metadata": {},
     "output_type": "execute_result"
    }
   ],
   "source": [
    "path = \"/home/donald/Documents/project/github_project/rddc2020/yolov5/datasets/road2020/train/Czech/annotations/xmls/Czech_000010.xml\"\n",
    "path2 = \"datasets/Annotations/IP000000107.xml\"\n",
    "tree = ET.parse(path2)\n",
    "        \n",
    "annotations = {\n",
    "    \"filename\": tree.findtext(\"filename\"), \n",
    "    \"size\": {\n",
    "        \"depth\":tree.findtext(\"./size/depth\"),\n",
    "        \"height\":tree.findtext(\"./size/height\"),\n",
    "        \"width\":tree.findtext(\"./size/width\")\n",
    "    }\n",
    "}\n",
    "\n",
    "for index, obj in enumerate(tree.findall(\"object\")):\n",
    "\n",
    "    object_tag = \"object\" if index < 1 else f\"object_{index}\"\n",
    "\n",
    "    annotations[object_tag] = {\n",
    "        \"name\"  : obj.findtext(\"name\"), \n",
    "        \"bndbox\": {\n",
    "            \"xmin\": obj.findtext(\"bndbox/xmin\"), \n",
    "            \"ymin\": obj.findtext(\"bndbox/ymin\"),\n",
    "            \"xmax\": obj.findtext(\"bndbox/xmax\"),\n",
    "            \"ymax\": obj.findtext(\"bndbox/ymax\")\n",
    "        }\n",
    "    }\n",
    "    \n",
    "annotations"
   ]
  },
  {
   "cell_type": "code",
   "execution_count": 127,
   "id": "616f229f",
   "metadata": {},
   "outputs": [
    {
     "name": "stdout",
     "output_type": "stream",
     "text": [
      "{'name': '0', 'bndbox': {'xmin': '1', 'ymin': '44', 'xmax': '582', 'ymax': '217'}}\n",
      "IP000000107.jpg\n",
      "{'name': '0', 'bndbox': {'xmin': '32', 'ymin': '292', 'xmax': '620', 'ymax': '381'}}\n",
      "IP000000107.jpg\n"
     ]
    }
   ],
   "source": [
    "object_keys = [key for key in annotations.keys() if \"object\" in key]\n",
    "for key in object_keys:\n",
    "    print(annotations[key])\n",
    "    print(annotations[\"filename\"])"
   ]
  },
  {
   "cell_type": "code",
   "execution_count": null,
   "id": "3d0e34de",
   "metadata": {},
   "outputs": [],
   "source": [
    "class XMLHandler():\n",
    "    def __init__(self, \n",
    "                 output_format :str = \"single\",\n",
    "                 file_format: str = 'txt',\n",
    "                 data_dir: str):\n",
    "        \n",
    "        self.method = output_format\n",
    "        self.file_format = file_format\n",
    "        self.data_dir = data_dir\n",
    "        \n",
    "        if self.method = \"all\":\n",
    "            self.classes = {}\n",
    "            classes_path = os.path.join(data_dir, \"damage_classes.txt\")\n",
    "            with open(classes_path, 'r') as f:\n",
    "                for num, line in enumerate(f, 0):\n",
    "                    line = line.rstrip(\"\\n\")\n",
    "                    self.classes[line] = num + 1\n",
    "                    \n",
    "            self.all_annotations = list()\n",
    "            self.all_annotations_filepath = os.path.join(data_dir + \"all_annotations.txt\")\n",
    "    \n",
    "    def parse(self, annotation_filepath):\n",
    "        \n",
    "        tree = ET.parse(annotation_filepath)\n",
    "        \n",
    "        annotations = {\n",
    "            \"filename\": tree.findtext(\"filename\"), \n",
    "            \"size\": {\n",
    "                \"depth\":tree.findtext(\"./size/depth\"),\n",
    "                \"height\":tree.findtext(\"./size/height\"),\n",
    "                \"width\":tree.findtext(\"./size/width\")\n",
    "            }\n",
    "        }\n",
    "        \n",
    "        for index, obj in enumerate(tree.findall(\"object\")):\n",
    "            \n",
    "            object_tag = \"object\" if index < 1 else f\"object_{index}\"\n",
    "            \n",
    "            annotations[object_tag] = {\n",
    "                \"name\"  : obj.findtext(\"name\"), \n",
    "                \"bndbox\": {\n",
    "                    \"xmin\": obj.findtext(\"bndbox/xmin\"), \n",
    "                    \"ymin\": obj.findtext(\"bndbox/ymin\"),\n",
    "                    \"xmax\": obj.findtext(\"bndbox/xmax\"),\n",
    "                    \"ymax\": obj.findtext(\"bndbox/ymax\")\n",
    "                }\n",
    "            }\n",
    "            \n",
    "        return annatations\n",
    "    \n",
    "    def to_yolo_fromat(self, annotations):\n",
    "\n",
    "        annotations_list = []\n",
    "        \n",
    "        object_keys = [key for key in annotations.keys() if \"object\" in key]\n",
    "        \n",
    "        if self.method = \"all\":\n",
    "            \n",
    "            img_dirs = [x[0] for x in os.walk(self.data_dir) if \"image\" in x[0].lower()]\n",
    "            \n",
    "            for img_dir in img_dirs:\n",
    "                img_path = os.path.join(img_dir, annotations[\"filename\"])\n",
    "                if os.path.exists(img_path)\n",
    "\n",
    "                    newline = img_path + \" \"\n",
    "        \n",
    "        for key in object_keys:\n",
    "\n",
    "            bbox = annotations[key][\"bndbox\"]\n",
    "            coords = np.asarray(\n",
    "                      [float(bbox[\"xmin\"]), float(bbox[\"ymin\"]), \n",
    "                       float(bbox[\"xmax\"]), float(bbox[\"ymax\"])])\n",
    "\n",
    "            coords = self.convert(annotations, coords)\n",
    "\n",
    "            newline = annotations[key][\"name\"] + \" \" \\\n",
    "                         + str(coords[0]) + \" \" \\\n",
    "                         + str(coords[1]) + \" \" \\\n",
    "                         + str(coords[2]) + \" \" \\\n",
    "                         + str(coords[3])\n",
    "\n",
    "            if self.method = \"all\":\n",
    "                class_id = self.classes[annotations[key][\"name\"]]\n",
    "                object_annotation = \" {},{},{},{},{} \".format(\n",
    "                    str(float(bbox[\"xmin\"])), str(float(bbox[\"ymin\"])),\n",
    "                    str(float(bbox[\"xmax\"])), str(float(bbox[\"ymax\"])), class_id\n",
    "                )\n",
    "                \n",
    "                newline += object_annotation\n",
    "                           \n",
    "                        \n",
    "        annotations_list.append(newline)\n",
    "        \n",
    "        if self.method = \"all\":\n",
    "            self.all_annotations.append(newline)\n",
    "        \n",
    "        return annotations_list\n",
    "    \n",
    "    def convert(self, annotations, coords):\n",
    "         \n",
    "        \"\"\" Transform Open Images Dataset bounding boxes\n",
    "            XMin, YMin, XMax, YMax annotaton format into\n",
    "            the normalized yolo format.\n",
    "           input :\n",
    "           -----\n",
    "           filename_wihtout_extension : str()\n",
    "              Image file path without .jpg extension. File by default available in Label/ subdir\n",
    "           coords : np.array()\n",
    "              OID coordinate of bounding boxes. \n",
    "           return :\n",
    "           ------\n",
    "           coords : np.array()\n",
    "              New bounding boxes coordinate in YOLO formats.\n",
    "        \"\"\"\n",
    "        \n",
    "        #print(coords)\n",
    "        coords[2] -= coords[0]\n",
    "        coords[3] -= coords[1]   \n",
    "\n",
    "        x_diff = int(coords[2]/2)\n",
    "        y_diff = int(coords[3]/2)\n",
    "\n",
    "        coords[0] = coords[0]+x_diff\n",
    "        coords[1] = coords[1]+y_diff\n",
    "\n",
    "        image_dim = annotations[\"size\"]\n",
    "\n",
    "        coords[0] /= float(image_dim[\"width\"])\n",
    "        coords[1] /= float(image_dim[\"height\"])\n",
    "        coords[2] /= float(image_dim[\"width\"])\n",
    "        coords[3] /= float(image_dim[\"height\"])\n",
    "        \n",
    "        return coords    \n",
    "    \n",
    "    def txt_file_path(self, filepath, annotations):\n",
    "        \n",
    "        if filename.split(\".\")[0] != annotations[\"filename\"].split(\".\")[0]:\n",
    "            print(\"There is a problem with the annotation file %s.\\\n",
    "               The annotation filename does not macth provided name %s\", filename, annotations[\"filename\"])\n",
    "            \n",
    "        if '.' in annotations[\"filename\"]:\n",
    "            filename_txt = filename.split(\".\")[0] + \".txt\"\n",
    "            \n",
    "        else :\n",
    "            # TO DO : turn this into a warning \n",
    "            print(f\"Unusual format for the file : {annotations[\"filename\"]}\")\n",
    "            filename_txt = filepath.split(\".\")[0].split(\"/\")[-1] + \".txt\"\n",
    "            \n",
    "        new_file_path = os.path.join(LABEL_DIR, filename_txt)\n",
    "        \n",
    "        return new_file_path\n",
    "    \n",
    "    def write_file(self):\n",
    "        \n",
    "        annotations = self.parse(path)\n",
    "        new_file_path = self.txt_file_path(filepath, annotations)\n",
    "        annotations_list = self.to_yolo_fromat(annotations)\n",
    "        \n",
    "        with open(new_file_path, \"w\") as outfile:\n",
    "            for line in annotations_list:\n",
    "                outfile.write(line)\n",
    "                outfile.write(\"\\n\")\n",
    "        "
   ]
  },
  {
   "cell_type": "code",
   "execution_count": 69,
   "id": "bbdece1a",
   "metadata": {},
   "outputs": [
    {
     "name": "stdout",
     "output_type": "stream",
     "text": [
      "object\n",
      "object_1\n"
     ]
    }
   ],
   "source": [
    "for index in range(2):\n",
    "    object_tag = \"object\" if index < 1 else f\"object_{index}\"\n",
    "    print(object_tag)"
   ]
  },
  {
   "cell_type": "code",
   "execution_count": null,
   "id": "e29d5dfd",
   "metadata": {},
   "outputs": [],
   "source": [
    "def convert(annotations, coords):\n",
    "         \n",
    "        \"\"\" Transform Open Images Dataset bounding boxes\n",
    "            XMin, YMin, XMax, YMax annotaton format into\n",
    "            the normalized yolo format.\n",
    "           input :\n",
    "           -----\n",
    "           filename_wihtout_extension : str()\n",
    "              Image file path without .jpg extension. File by default available in Label/ subdir\n",
    "           coords : np.array()\n",
    "              OID coordinate of bounding boxes. \n",
    "           return :\n",
    "           ------\n",
    "           coords : np.array()\n",
    "              New bounding boxes coordinate in YOLO formats.\n",
    "        \"\"\"\n",
    "        \n",
    "        #print(coords)\n",
    "        coords[2] -= coords[0]\n",
    "        coords[3] -= coords[1]   \n",
    "\n",
    "        x_diff = int(coords[2]/2)\n",
    "        y_diff = int(coords[3]/2)\n",
    "\n",
    "        coords[0] = coords[0]+x_diff\n",
    "        coords[1] = coords[1]+y_diff\n",
    "\n",
    "        image_dim = annotations[\"size\"]\n",
    "\n",
    "        coords[0] /= float(image_dim[\"width\"])\n",
    "        coords[1] /= float(image_dim[\"height\"])\n",
    "        coords[2] /= float(image_dim[\"width\"])\n",
    "        coords[3] /= float(image_dim[\"height\"])\n",
    "        \n",
    "        return coords "
   ]
  },
  {
   "cell_type": "code",
   "execution_count": 70,
   "id": "a9602d58",
   "metadata": {},
   "outputs": [],
   "source": [
    "import os"
   ]
  },
  {
   "cell_type": "code",
   "execution_count": 71,
   "id": "bd769d89",
   "metadata": {},
   "outputs": [
    {
     "name": "stdout",
     "output_type": "stream",
     "text": [
      "annotations_test.txt  prepare_annotation.py  training_output.txt\r\n",
      "config_yaml.py\t      README.md\t\t     train_test_val_split.py\r\n",
      "datasets\t      requirement.txt\t     Untitled.ipynb\r\n",
      "notebook\t      save_for_readme.odp    yolov5\r\n",
      "Pipfile\t\t      test.py\r\n"
     ]
    }
   ],
   "source": [
    "!ls"
   ]
  },
  {
   "cell_type": "code",
   "execution_count": 72,
   "id": "bf4fee26",
   "metadata": {},
   "outputs": [
    {
     "data": {
      "text/plain": [
       "['val',\n",
       " 'train',\n",
       " 'Annotations',\n",
       " 'images',\n",
       " 'annotations',\n",
       " 'labels_damages',\n",
       " 'labels',\n",
       " 'data.yaml',\n",
       " 'Annotations.tar',\n",
       " 'test',\n",
       " 'classes.txt',\n",
       " 'JPEGImages.tar',\n",
       " 'JPEGImages']"
      ]
     },
     "execution_count": 72,
     "metadata": {},
     "output_type": "execute_result"
    }
   ],
   "source": [
    "os.listdir(\"datasets/\")"
   ]
  },
  {
   "cell_type": "code",
   "execution_count": 73,
   "id": "440e1bec",
   "metadata": {},
   "outputs": [
    {
     "data": {
      "text/plain": [
       "True"
      ]
     },
     "execution_count": 73,
     "metadata": {},
     "output_type": "execute_result"
    }
   ],
   "source": [
    "os.path.isdir(\"datasets/\")"
   ]
  },
  {
   "cell_type": "code",
   "execution_count": 105,
   "id": "8e0e04ff",
   "metadata": {},
   "outputs": [
    {
     "data": {
      "text/plain": [
       "['/home/donald/Documents/project/github_project/rddc2020/yolov5/datasets/road2020/train/India/images',\n",
       " '/home/donald/Documents/project/github_project/rddc2020/yolov5/datasets/road2020/train/Japan/images',\n",
       " '/home/donald/Documents/project/github_project/rddc2020/yolov5/datasets/road2020/train/Czech/images']"
      ]
     },
     "execution_count": 105,
     "metadata": {},
     "output_type": "execute_result"
    }
   ],
   "source": [
    "dir_path = \"/home/donald/Documents/project/github_project/rddc2020/yolov5/datasets/road2020/train\"\n",
    "test = [x[0] for x in os.walk(dir_path) if \"image\" in x[0].lower()]\n",
    "test "
   ]
  },
  {
   "cell_type": "code",
   "execution_count": 111,
   "id": "ac8ca463",
   "metadata": {},
   "outputs": [],
   "source": [
    "bbox = annotations[\"object\"][\"bndbox\"]\n",
    "coords = np.asarray(\n",
    "            [float(bbox[\"xmin\"]), float(bbox[\"ymin\"]), \n",
    "            float(bbox[\"xmax\"]), float(bbox[\"ymax\"])])"
   ]
  },
  {
   "cell_type": "code",
   "execution_count": 139,
   "id": "ef22788c",
   "metadata": {},
   "outputs": [
    {
     "name": "stdout",
     "output_type": "stream",
     "text": [
      "['datasets/val/images', 'datasets/train/images', 'datasets/images', 'datasets/test/images', 'datasets/JPEGImages']\n",
      "datasets/val/images/IP000000107.jpg\n",
      "datasets/train/images/IP000000107.jpg\n",
      "datasets/images/IP000000107.jpg\n",
      "datasets/test/images/IP000000107.jpg\n",
      "datasets/JPEGImages/IP000000107.jpg\n"
     ]
    },
    {
     "data": {
      "text/plain": [
       "'datasets/JPEGImages/IP000000107.jpg 1.0,44.0,582.0,217.0  32.0,292.0,620.0,381.0 '"
      ]
     },
     "execution_count": 139,
     "metadata": {},
     "output_type": "execute_result"
    }
   ],
   "source": [
    "dir_path = \"/home/donald/Documents/project/github_project/rddc2020/yolov5/datasets/road2020/train\"\n",
    "dir_path2 =\"datasets\"\n",
    "img_dirs = [x[0] for x in os.walk(dir_path2) if \"image\" in x[0].lower()]\n",
    "print(img_dirs)\n",
    "\n",
    "for img_dir in img_dirs:\n",
    "    img_path = os.path.join(img_dir, annotations[\"filename\"])\n",
    "    print(img_path)\n",
    "    if os.path.exists(img_path):\n",
    "        newline = img_path\n",
    "            \n",
    "for key in object_keys:\n",
    "    #print(newline)\n",
    "    bbox = annotations[key][\"bndbox\"]\n",
    "    coords = np.asarray(\n",
    "              [float(bbox[\"xmin\"]), float(bbox[\"ymin\"]), \n",
    "               float(bbox[\"xmax\"]), float(bbox[\"ymax\"])])\n",
    "    \n",
    "    object_annotation = \" {},{},{},{} \".format(\n",
    "                    str(float(bbox[\"xmin\"])), str(float(bbox[\"ymin\"])),\n",
    "                    str(float(bbox[\"xmax\"])), str(float(bbox[\"ymax\"])))\n",
    "                \n",
    "    newline += object_annotation\n",
    "\n",
    "    #newline += \" \" + annotations[key][\"name\"] + \" \" \\\n",
    "    #         + str(coords[0]) + \" \" \\\n",
    "    #         + str(coords[1]) + \" \" \\\n",
    "    #         + str(coords[2]) + \" \" \\\n",
    "    #         + str(coords[3])\n",
    "newline"
   ]
  },
  {
   "cell_type": "code",
   "execution_count": 132,
   "id": "634e5318",
   "metadata": {},
   "outputs": [
    {
     "data": {
      "text/plain": [
       "'/home/donald/Documents/project/github_project/rddc2020/yolov5/datasets/road2020/train/Czech/images/Czech_000010.jpg D40 213.0 409.0 274.0 441.0 D10 228.0 473.0 327.0 495.0 0 1.0 44.0 582.0 217.0 0 32.0 292.0 620.0 381.0 0 1.0 44.0 582.0 217.0 0 32.0 292.0 620.0 381.0 0 1.0 44.0 582.0 217.0 0 32.0 292.0 620.0 381.0 0 1.0 44.0 582.0 217.0 0 32.0 292.0 620.0 381.0 0 1.0 44.0 582.0 217.0 0 32.0 292.0 620.0 381.0 0 1.0 44.0 582.0 217.0 0 32.0 292.0 620.0 381.0 0 1.0 44.0 582.0 217.0 0 32.0 292.0 620.0 381.0'"
      ]
     },
     "execution_count": 132,
     "metadata": {},
     "output_type": "execute_result"
    }
   ],
   "source": [
    "newline"
   ]
  },
  {
   "cell_type": "code",
   "execution_count": 104,
   "id": "83820f45",
   "metadata": {},
   "outputs": [
    {
     "data": {
      "text/plain": [
       "['/home/donald/Documents/project/github_project/rddc2020/yolov5/datasets/road2020/train/India/images']"
      ]
     },
     "execution_count": 104,
     "metadata": {},
     "output_type": "execute_result"
    }
   ],
   "source": [
    "dir_path = '/home/donald/Documents/project/github_project/rddc2020/yolov5/datasets/road2020/train/India'\n",
    "test = [x[0] for x in os.walk(dir_path) if \"image\" in x[0].lower()]\n",
    "test "
   ]
  },
  {
   "cell_type": "code",
   "execution_count": 86,
   "id": "06566578",
   "metadata": {},
   "outputs": [
    {
     "name": "stdout",
     "output_type": "stream",
     "text": [
      "annotation\n"
     ]
    }
   ],
   "source": [
    "test = \"ANNotation\"\n",
    "print(test.lower())"
   ]
  },
  {
   "cell_type": "code",
   "execution_count": 99,
   "id": "fa400e49",
   "metadata": {},
   "outputs": [
    {
     "name": "stdout",
     "output_type": "stream",
     "text": [
      "/home/donald/Documents/project/github_project/insect_recognition\r\n"
     ]
    }
   ],
   "source": [
    "!pwd"
   ]
  },
  {
   "cell_type": "code",
   "execution_count": 158,
   "id": "63a819c8",
   "metadata": {},
   "outputs": [
    {
     "data": {
      "text/plain": [
       "{'D00': 1, 'D10': 2, 'D20': 3, 'D40': 4}"
      ]
     },
     "execution_count": 158,
     "metadata": {},
     "output_type": "execute_result"
    }
   ],
   "source": [
    "damage_class_path = \"/home/donald/Documents/project/github_project/rddc2020/yolov5/datasets/road2020/damage_classes.txt\"\n",
    "\n",
    "import json\n",
    "classes = {}\n",
    "with open(damage_class_path, 'r') as f:\n",
    "    for num, line in enumerate(f, 0):\n",
    "        line = line.rstrip(\"\\n\")\n",
    "        #line = re.sub(r'[0-9]+', '', line)\n",
    "        classes[line] = num+1\n",
    "\n",
    "classes"
   ]
  },
  {
   "cell_type": "code",
   "execution_count": 157,
   "id": "55520371",
   "metadata": {},
   "outputs": [
    {
     "data": {
      "text/plain": [
       "{'D00': 1, 'D10': 2, 'D20': 3, 'D40': 4}"
      ]
     },
     "execution_count": 157,
     "metadata": {},
     "output_type": "execute_result"
    }
   ],
   "source": [
    "class_map = {name: idx+1 for idx, name in enumerate(open(damage_class_path).read().splitlines())}\n",
    "class_map"
   ]
  },
  {
   "cell_type": "code",
   "execution_count": 160,
   "id": "ac49fb20",
   "metadata": {},
   "outputs": [
    {
     "data": {
      "text/plain": [
       "{'D00': 1, 'D10': 2, 'D20': 3, 'D40': 4}"
      ]
     },
     "execution_count": 160,
     "metadata": {},
     "output_type": "execute_result"
    }
   ],
   "source": [
    "classes = {\n",
    "    name: idx+1 for idx, name in enumerate(\n",
    "          open(damage_class_path).read().splitlines()\n",
    "          )\n",
    "}\n",
    "classes"
   ]
  },
  {
   "cell_type": "code",
   "execution_count": 161,
   "id": "f57fcaad",
   "metadata": {},
   "outputs": [
    {
     "data": {
      "text/plain": [
       "589.3129770992366"
      ]
     },
     "execution_count": 161,
     "metadata": {},
     "output_type": "execute_result"
    }
   ],
   "source": [
    "386000/655"
   ]
  },
  {
   "cell_type": "code",
   "execution_count": 143,
   "id": "1781c333",
   "metadata": {},
   "outputs": [],
   "source": [
    "def parse_classes():\n",
    "    \n",
    "    classes = {}\n",
    "    \n",
    "    with open(\"damage_class_path\", \"r\") as myFile:\n",
    "        \n",
    "        for num, line in enumerate(myFile, 0):\n",
    "            line = line.rstrip(\"\\n\")\n",
    "            \n",
    "            # line = re.sub(r'[0-9]+', '', line)\n",
    "            \n",
    "            line = remove_first_end_spaces(line)\n",
    "            classes[line] = num\n",
    "            \n",
    "    return classes"
   ]
  },
  {
   "cell_type": "code",
   "execution_count": 153,
   "id": "4afb3035",
   "metadata": {},
   "outputs": [
    {
     "ename": "FileNotFoundError",
     "evalue": "[Errno 2] No such file or directory: 'damage_class_path'",
     "output_type": "error",
     "traceback": [
      "\u001b[0;31m---------------------------------------------------------------------------\u001b[0m",
      "\u001b[0;31mFileNotFoundError\u001b[0m                         Traceback (most recent call last)",
      "Cell \u001b[0;32mIn[153], line 1\u001b[0m\n\u001b[0;32m----> 1\u001b[0m \u001b[38;5;28;01mwith\u001b[39;00m \u001b[38;5;28;43mopen\u001b[39;49m\u001b[43m(\u001b[49m\u001b[38;5;124;43m\"\u001b[39;49m\u001b[38;5;124;43mdamage_class_path\u001b[39;49m\u001b[38;5;124;43m\"\u001b[39;49m\u001b[43m,\u001b[49m\u001b[43m \u001b[49m\u001b[38;5;124;43m\"\u001b[39;49m\u001b[38;5;124;43mr\u001b[39;49m\u001b[38;5;124;43m\"\u001b[39;49m\u001b[43m)\u001b[49m \u001b[38;5;28;01mas\u001b[39;00m outfile:\n\u001b[1;32m      2\u001b[0m     \u001b[38;5;28;01mfor\u001b[39;00m line \u001b[38;5;129;01min\u001b[39;00m annotations_list:\n\u001b[1;32m      3\u001b[0m         \u001b[38;5;28mprint\u001b[39m(line)\n",
      "File \u001b[0;32m~/Documents/project/github_project/insect_recognition/.venv/lib/python3.8/site-packages/IPython/core/interactiveshell.py:282\u001b[0m, in \u001b[0;36m_modified_open\u001b[0;34m(file, *args, **kwargs)\u001b[0m\n\u001b[1;32m    275\u001b[0m \u001b[38;5;28;01mif\u001b[39;00m file \u001b[38;5;129;01min\u001b[39;00m {\u001b[38;5;241m0\u001b[39m, \u001b[38;5;241m1\u001b[39m, \u001b[38;5;241m2\u001b[39m}:\n\u001b[1;32m    276\u001b[0m     \u001b[38;5;28;01mraise\u001b[39;00m \u001b[38;5;167;01mValueError\u001b[39;00m(\n\u001b[1;32m    277\u001b[0m         \u001b[38;5;124mf\u001b[39m\u001b[38;5;124m\"\u001b[39m\u001b[38;5;124mIPython won\u001b[39m\u001b[38;5;124m'\u001b[39m\u001b[38;5;124mt let you open fd=\u001b[39m\u001b[38;5;132;01m{\u001b[39;00mfile\u001b[38;5;132;01m}\u001b[39;00m\u001b[38;5;124m by default \u001b[39m\u001b[38;5;124m\"\u001b[39m\n\u001b[1;32m    278\u001b[0m         \u001b[38;5;124m\"\u001b[39m\u001b[38;5;124mas it is likely to crash IPython. If you know what you are doing, \u001b[39m\u001b[38;5;124m\"\u001b[39m\n\u001b[1;32m    279\u001b[0m         \u001b[38;5;124m\"\u001b[39m\u001b[38;5;124myou can use builtins\u001b[39m\u001b[38;5;124m'\u001b[39m\u001b[38;5;124m open.\u001b[39m\u001b[38;5;124m\"\u001b[39m\n\u001b[1;32m    280\u001b[0m     )\n\u001b[0;32m--> 282\u001b[0m \u001b[38;5;28;01mreturn\u001b[39;00m \u001b[43mio_open\u001b[49m\u001b[43m(\u001b[49m\u001b[43mfile\u001b[49m\u001b[43m,\u001b[49m\u001b[43m \u001b[49m\u001b[38;5;241;43m*\u001b[39;49m\u001b[43margs\u001b[49m\u001b[43m,\u001b[49m\u001b[43m \u001b[49m\u001b[38;5;241;43m*\u001b[39;49m\u001b[38;5;241;43m*\u001b[39;49m\u001b[43mkwargs\u001b[49m\u001b[43m)\u001b[49m\n",
      "\u001b[0;31mFileNotFoundError\u001b[0m: [Errno 2] No such file or directory: 'damage_class_path'"
     ]
    }
   ],
   "source": [
    "with open(\"damage_class_path\", \"r\") as outfile:\n",
    "    for line in annotations_list:\n",
    "        print(line)\n",
    "        outfile.write(line)\n",
    "        outfile.write(\"\\n\")"
   ]
  },
  {
   "cell_type": "code",
   "execution_count": 162,
   "id": "6f77bba0",
   "metadata": {},
   "outputs": [
    {
     "data": {
      "text/plain": [
       "False"
      ]
     },
     "execution_count": 162,
     "metadata": {},
     "output_type": "execute_result"
    }
   ],
   "source": [
    "os.path.exists(\"/home/donald/Documents/project/github_project/test_prepare_data/Yolo_annotation2/\")"
   ]
  }
 ],
 "metadata": {
  "kernelspec": {
   "display_name": "Python 3 (ipykernel)",
   "language": "python",
   "name": "python3"
  },
  "language_info": {
   "codemirror_mode": {
    "name": "ipython",
    "version": 3
   },
   "file_extension": ".py",
   "mimetype": "text/x-python",
   "name": "python",
   "nbconvert_exporter": "python",
   "pygments_lexer": "ipython3",
   "version": "3.8.10"
  }
 },
 "nbformat": 4,
 "nbformat_minor": 5
}
